{
 "cells": [
  {
   "cell_type": "markdown",
   "id": "323fa105-a536-4b79-b83f-f7afba2eb18d",
   "metadata": {},
   "source": [
    "1. Python pathes should contain conda environment name \"geo\" (eg. 'C:\\\\Users\\\\48794\\\\anaconda3\\\\envs\\\\geo'):"
   ]
  },
  {
   "cell_type": "code",
   "execution_count": 20,
   "id": "a3efece7-6aff-4d8c-a4bd-7383947b941b",
   "metadata": {},
   "outputs": [
    {
     "name": "stdout",
     "output_type": "stream",
     "text": [
      "Passed\n"
     ]
    }
   ],
   "source": [
    "import sys\n",
    "r = [s for s in sys.path if \"geo\" in s]\n",
    "if len(r)>0:\n",
    "    print(\"Passed\")\n",
    "else:\n",
    "    print(\"Failed\")"
   ]
  },
  {
   "cell_type": "markdown",
   "id": "434d2762-4e5e-46f6-bbaa-3e4d28b9de4b",
   "metadata": {},
   "source": [
    "2. Geospatial libraries should be possible to import:"
   ]
  },
  {
   "cell_type": "code",
   "execution_count": 21,
   "id": "63a8e334-aad5-4e24-84b1-02cf4783b7e0",
   "metadata": {},
   "outputs": [
    {
     "name": "stdout",
     "output_type": "stream",
     "text": [
      "Passed\n"
     ]
    }
   ],
   "source": [
    "try:\n",
    "    import rioxarray\n",
    "    from osgeo import gdal\n",
    "    import geopandas\n",
    "except:\n",
    "    print(\"Failed\")\n",
    "else:\n",
    "    print(\"Passed\")"
   ]
  },
  {
   "cell_type": "markdown",
   "id": "e6957cd9-2da0-46b4-8c09-8b48b91e4154",
   "metadata": {},
   "source": [
    "3. Test simple geospatial operation:"
   ]
  },
  {
   "cell_type": "code",
   "execution_count": 22,
   "id": "616074ce-0d53-45b9-9cbc-1fb99b77fa2d",
   "metadata": {},
   "outputs": [
    {
     "name": "stdout",
     "output_type": "stream",
     "text": [
      "Passed\n"
     ]
    }
   ],
   "source": [
    "try:\n",
    "    from osgeo import ogr\n",
    "    point = ogr.Geometry(ogr.wkbPoint)\n",
    "    point.AddPoint(1198054.34, 648493.09)\n",
    "    point_wkt = point.ExportToWkt()\n",
    "except:\n",
    "    print(\"Failed\")\n",
    "else:\n",
    "    print(\"Passed\")"
   ]
  }
 ],
 "metadata": {
  "kernelspec": {
   "display_name": "Python 3 (ipykernel)",
   "language": "python",
   "name": "python3"
  },
  "language_info": {
   "codemirror_mode": {
    "name": "ipython",
    "version": 3
   },
   "file_extension": ".py",
   "mimetype": "text/x-python",
   "name": "python",
   "nbconvert_exporter": "python",
   "pygments_lexer": "ipython3",
   "version": "3.10.4"
  }
 },
 "nbformat": 4,
 "nbformat_minor": 5
}
